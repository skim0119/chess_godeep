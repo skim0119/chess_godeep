{
 "cells": [
  {
   "cell_type": "markdown",
   "metadata": {},
   "source": [
    "# Convolution Neural Network - Chess Prediction\n",
    "- Seung Hyun Kim (skim449)\n",
    "- Last run : 8/29 .18"
   ]
  },
  {
   "cell_type": "code",
   "execution_count": 1,
   "metadata": {},
   "outputs": [
    {
     "name": "stderr",
     "output_type": "stream",
     "text": [
      "/Users/skim0119/github/chess_godeep/venv/lib/python3.6/importlib/_bootstrap.py:219: RuntimeWarning: compiletime version 3.5 of module 'tensorflow.python.framework.fast_tensor_util' does not match runtime version 3.6\n",
      "  return f(*args, **kwds)\n"
     ]
    }
   ],
   "source": [
    "%matplotlib inline\n",
    "\n",
    "import tensorflow as tf\n",
    "import numpy as np\n",
    "\n",
    "import matplotlib.pyplot as plt\n",
    "\n",
    "import loader"
   ]
  },
  {
   "cell_type": "markdown",
   "metadata": {},
   "source": [
    "## Load Data\n",
    "- Any method for loading and parsing the data is included in loader.py\n",
    "- First few moves in the chess game is not significant enough, so the first 4 moves are not included in the dataset."
   ]
  },
  {
   "cell_type": "code",
   "execution_count": 2,
   "metadata": {
    "scrolled": true
   },
   "outputs": [
    {
     "name": "stdout",
     "output_type": "stream",
     "text": [
      "388405 data loaded\n"
     ]
    }
   ],
   "source": [
    "# Pepare Dataset\n",
    "x_dataset, t_dataset = loader.load()"
   ]
  },
  {
   "cell_type": "markdown",
   "metadata": {},
   "source": [
    "### Data Split\n",
    "- Test dataset is splited into two groups: one for the training and one for measuring accuracy.\n",
    "- By spliting the training and testing group, we can reduce some amount of overfitting."
   ]
  },
  {
   "cell_type": "code",
   "execution_count": 3,
   "metadata": {},
   "outputs": [],
   "source": [
    "# Test Train Split\n",
    "nData = len(x_dataset)\n",
    "train_ratio = 0.8\n",
    "indices = np.arange(nData)\n",
    "np.random.shuffle(indices)\n",
    "train_idx, test_idx = indices[:int(nData*train_ratio)], indices[int(nData*train_ratio):]\n",
    "x_train, t_train, x_test, t_test = x_dataset[train_idx,:], t_dataset[train_idx,:], \\\n",
    "                                    x_dataset[test_idx,:], t_dataset[test_idx,:]"
   ]
  },
  {
   "cell_type": "markdown",
   "metadata": {},
   "source": [
    "### Batch Training Data\n",
    "- Since using the entire set of data is too large, we want to randomly select from the dataset and reduce the size."
   ]
  },
  {
   "cell_type": "code",
   "execution_count": 4,
   "metadata": {},
   "outputs": [],
   "source": [
    "def batch_data(size, x_train, t_train):\n",
    "    \"\"\"\n",
    "    This method pulls mini-batch from x_train and t_train\n",
    "    \"\"\"\n",
    "    sup_index = len(x_train)\n",
    "    indices = np.random.randint(0,sup_index,size)\n",
    "    return x_train[indices], t_train[indices]"
   ]
  },
  {
   "cell_type": "markdown",
   "metadata": {},
   "source": [
    "## Graph\n",
    "- 2 convolution layer, 1 fully-connected layer\n",
    "    - First convolution layer includes relu activation function and max pooling layer.\n",
    "    - Second convolution layer includes relu activation function.\n",
    "    - Last fully connected layer includes flattening layer and sigmoid activation function."
   ]
  },
  {
   "cell_type": "code",
   "execution_count": 6,
   "metadata": {},
   "outputs": [],
   "source": [
    "#Graph\n",
    "tf.reset_default_graph()\n",
    "\n",
    "x = tf.placeholder(tf.float32, shape=(None, 8, 8, 6)) # input layer (one-hot board)\n",
    "t = tf.placeholder(tf.float32, shape=(None, 2)) # return probability of winning (sigmoid)\n",
    "\n",
    "global_step = tf.Variable(0, trainable=False, name='global_step')\n",
    "\n",
    "with tf.name_scope('conv1'):\n",
    "    # First convolution filter with kernel size 2x2, and pool by 2x2\n",
    "    # input : [8, 8, 6]\n",
    "    # output : [4,4,24]\n",
    "    kernel_1 = tf.Variable(tf.random_uniform([2,2,6,24], -1.0, 1.0))\n",
    "    conv1 = tf.nn.conv2d(x,\n",
    "                         kernel_1,\n",
    "                         strides=[1,1,1,1],\n",
    "                         padding = 'SAME')\n",
    "    conv1_act = tf.nn.relu(conv1)\n",
    "    conv1_pool = tf.nn.max_pool(conv1_act,\n",
    "                                ksize=[1,2,2,1],\n",
    "                                strides=[1,2,2,1],\n",
    "                                padding = 'SAME')\n",
    "    #x = tf.nn.dropout(x, 0.5)\n",
    "\n",
    "with tf.name_scope('conv2'):\n",
    "    # Second convolution filter with kernel size 2x2\n",
    "    # input : [4,4,24]\n",
    "    # output : [4,4,48]\n",
    "    kernel_2 = tf.Variable(tf.random_uniform([2,2,24,48], -1.0, 1.0))\n",
    "    conv2 = tf.nn.conv2d(conv1_pool,\n",
    "                         kernel_2,\n",
    "                         strides=[1,1,1,1],\n",
    "                         padding = 'SAME')\n",
    "    conv2_act = tf.nn.relu(conv2)\n",
    "\n",
    "with tf.name_scope('Dense1'):\n",
    "    length = 4*4*48\n",
    "    x_flat = tf.reshape(conv2_act, [-1,length]) # flatten\n",
    "    weight_1 = tf.Variable(tf.truncated_normal(shape=[length, 2]))\n",
    "    bias_1 = tf.Variable(tf.truncated_normal(shape=[2]))\n",
    "    dense1 = tf.matmul(x_flat, weight_1) + bias_1\n",
    "    output = tf.sigmoid(dense1)\n",
    "\"\"\"\n",
    "with tf.name_scope('Dense2'):\n",
    "    # softmax\n",
    "    weight_2 = tf.Variable(tf.truncated_normal(shape=[length, 2]))\n",
    "    bias_2 = tf.Variable(tf.truncated_normal(shape=[2]))\n",
    "    dense2 = tf.matmul(dense1, weight_2) + bias_2\n",
    "    output = tf.sigmoid(dense2)\n",
    "\"\"\"\n",
    "with tf.name_scope('optimizer'):\n",
    "    Loss = tf.reduce_mean(tf.square(output - t))\n",
    "    Optimizer = tf.train.AdamOptimizer().minimize(Loss, global_step=global_step)\n",
    "    tf.summary.scalar('loss', Loss)\n",
    "    \n",
    "# Save\n",
    "merged = tf.summary.merge_all()"
   ]
  },
  {
   "cell_type": "markdown",
   "metadata": {},
   "source": [
    "## Run Session"
   ]
  },
  {
   "cell_type": "code",
   "execution_count": 7,
   "metadata": {},
   "outputs": [
    {
     "name": "stdout",
     "output_type": "stream",
     "text": [
      " 99992/100000 [============================>.] - ETA: 0s"
     ]
    },
    {
     "data": {
      "text/plain": [
       "'./model/chess.ckpt-100000'"
      ]
     },
     "execution_count": 7,
     "metadata": {},
     "output_type": "execute_result"
    }
   ],
   "source": [
    "# Session\n",
    "sess = tf.Session()\n",
    "saver = tf.train.Saver(tf.global_variables())\n",
    "\n",
    "writer = tf.summary.FileWriter('./logs', sess.graph)\n",
    "\n",
    "ckpt = tf.train.get_checkpoint_state('./model')\n",
    "if ckpt and tf.train.checkpoint_exists(ckpt.model_checkpoint_path):\n",
    "    saver.restore(sess, ckpt.model_checkpoint_path)\n",
    "else:\n",
    "    sess.run(tf.global_variables_initializer())\n",
    "\n",
    "loss_table = []\n",
    "pred_table = []\n",
    "\n",
    "# Epoch\n",
    "max_epoch = 100000\n",
    "prediction_sample_size = 1000\n",
    "batch_size = 50\n",
    "progbar = tf.keras.utils.Progbar(max_epoch)\n",
    "for epoch in range(max_epoch):\n",
    "    progbar.update(epoch) # update progress bar\n",
    "    \n",
    "    x_train_batch, t_train_batch = batch_data(batch_size, x_train, t_train)\n",
    "\n",
    "    feed_dict = {x:x_train_batch, t:t_train_batch}\n",
    "    _, loss = sess.run([Optimizer, Loss], feed_dict=feed_dict)\n",
    "\n",
    "    \n",
    "    if epoch % 100 == 0:\n",
    "        loss_table.append(loss)\n",
    "       #print(\"\\n\", epoch, \"epoch, Loss : \", loss)\n",
    "        summary = sess.run(merged, feed_dict=feed_dict)\n",
    "        writer.add_summary(summary, global_step=sess.run(global_step))\n",
    "        \n",
    "        # run prediction with test\n",
    "        x_test_batch, t_test_batch = batch_data(prediction_sample_size, x_test, t_test)\n",
    "        result = sess.run(output, feed_dict={x:x_test_batch})\n",
    "        is_correct = np.equal(result.argmax(1), t_test_batch.argmax(1))\n",
    "        pred_table.append(sum(is_correct)/prediction_sample_size)\n",
    "        \"\"\"\n",
    "        correct_prediction = 0\n",
    "        for i in range(prediction_sample_size):\n",
    "            if (result[i][0] > result[i][1] and t_test_batch[i][0]) \\\n",
    "                or (result[i][0] < result[i][1] and t_test_batch[i][1]):\n",
    "                correct_prediction += 1\n",
    "        pred_table.append(correct_prediction / prediction_sample_size)\n",
    "        \"\"\"\n",
    "    if epoch % 10000 == 0:\n",
    "        saver.save(sess, './model/chess.ckpt', global_step=global_step)\n",
    "\n",
    "saver.save(sess, './model/chess.ckpt', global_step=global_step)"
   ]
  },
  {
   "cell_type": "markdown",
   "metadata": {},
   "source": [
    "## Graph the Result"
   ]
  },
  {
   "cell_type": "code",
   "execution_count": 8,
   "metadata": {},
   "outputs": [
    {
     "name": "stdout",
     "output_type": "stream",
     "text": [
      "Average of Last 10 Loss :  0.19849198311567307\n",
      "Last Prediction :  68.40 %\n"
     ]
    },
    {
     "data": {
      "image/png": "[encoded data removed]",
      "text/plain": [
       "<Figure size 432x288 with 2 Axes>"
      ]
     },
     "metadata": {},
     "output_type": "display_data"
    }
   ],
   "source": [
    "# Pred/Loss Graph\n",
    "plt.subplot(2, 1, 1)\n",
    "plt.plot(loss_table)\n",
    "plt.title('Loss and Prediction')\n",
    "plt.ylabel('Loss')\n",
    "\n",
    "plt.subplot(2, 1, 2)\n",
    "plt.plot(pred_table)\n",
    "plt.xlabel('epoch (recorded every 100)')\n",
    "plt.ylabel('Prediction(%)')\n",
    "\n",
    "print('Average of Last 10 Loss : ', sum(loss_table[-10:])/10)\n",
    "print('Last Prediction : ', \"{0:0.2f}\".format(pred_table[-1]*100),'%')"
   ]
  }
 ],
 "metadata": {
  "kernelspec": {
   "display_name": "Python 3",
   "language": "python",
   "name": "python3"
  },
  "language_info": {
   "codemirror_mode": {
    "name": "ipython",
    "version": 3
   },
   "file_extension": ".py",
   "mimetype": "text/x-python",
   "name": "python",
   "nbconvert_exporter": "python",
   "pygments_lexer": "ipython3",
   "version": "3.6.5"
  }
 },
 "nbformat": 4,
 "nbformat_minor": 2
}
