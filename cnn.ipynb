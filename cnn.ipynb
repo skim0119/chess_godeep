{
 "cells": [
  {
   "cell_type": "code",
   "execution_count": 1,
   "metadata": {},
   "outputs": [
    {
     "name": "stderr",
     "output_type": "stream",
     "text": [
      "/Users/skim0119/github/chess_godeep/venv/lib/python3.6/importlib/_bootstrap.py:219: RuntimeWarning: compiletime version 3.5 of module 'tensorflow.python.framework.fast_tensor_util' does not match runtime version 3.6\n",
      "  return f(*args, **kwds)\n"
     ]
    }
   ],
   "source": [
    "%matplotlib inline\n",
    "\n",
    "import tensorflow as tf\n",
    "import numpy as np\n",
    "\n",
    "import matplotlib.pyplot as plt\n",
    "\n",
    "import loader"
   ]
  },
  {
   "cell_type": "code",
   "execution_count": 2,
   "metadata": {},
   "outputs": [
    {
     "name": "stdout",
     "output_type": "stream",
     "text": [
      "418819 data loaded\n"
     ]
    }
   ],
   "source": [
    "# Pepare Dataset\n",
    "x_train, t_train = loader.load()\n",
    "x_train = np.stack(x_train)\n",
    "t_train = np.stack(t_train)"
   ]
  },
  {
   "cell_type": "code",
   "execution_count": 3,
   "metadata": {},
   "outputs": [],
   "source": [
    "def batch_data(size, x_train, t_train):\n",
    "    sup_index = len(x_train)\n",
    "    indices = np.random.randint(0,sup_index,size)\n",
    "    return x_train[indices], t_train[indices]"
   ]
  },
  {
   "cell_type": "code",
   "execution_count": 4,
   "metadata": {},
   "outputs": [],
   "source": [
    "#Graph\n",
    "tf.reset_default_graph()\n",
    "\n",
    "x = tf.placeholder(tf.float32, shape=(None, 8, 8, 6)) # input layer\n",
    "t = tf.placeholder(tf.float32, shape=(None, 2)) # return probability of either side winning (sigmoid)\n",
    "\n",
    "global_step = tf.Variable(0, trainable=False, name='global_step')\n",
    "\n",
    "with tf.name_scope('conv1'):\n",
    "    # First convolution filter with kernel size 2x2, and pool by 2x2\n",
    "    # input : [8, 8, 6]\n",
    "    # output : [4,4,24]\n",
    "    kernel_1 = tf.Variable(tf.random_uniform([2,2,6,24], -1.0, 1.0))\n",
    "    conv1 = tf.nn.conv2d(x, kernel_1, strides=[1,1,1,1], padding = 'SAME')\n",
    "    conv1_act = tf.nn.relu(conv1)\n",
    "    conv1_pool = tf.nn.max_pool(conv1_act, ksize=[1,2,2,1], strides=[1,2,2,1], padding = 'SAME')\n",
    "    #x = tf.nn.dropout(x, 0.5)\n",
    "\n",
    "with tf.name_scope('conv2'):\n",
    "    # First convolution filter with kernel size 2x2\n",
    "    # input : [4,4,24]\n",
    "    # output : [4,4,48]\n",
    "    kernel_2 = tf.Variable(tf.random_uniform([2,2,24,48], -1.0, 1.0))\n",
    "    conv2 = tf.nn.conv2d(conv1_pool, kernel_2, strides=[1,1,1,1], padding = 'SAME')\n",
    "    conv2_act = tf.nn.relu(conv2)\n",
    "    #x = tf.nn.max_pool(x, ksize=[1,2,2,1], strides=[1,1,1,1], padding = 'SAME')\n",
    "\n",
    "with tf.name_scope('Dense1'):\n",
    "    length = 4*4*48\n",
    "    x_flat = tf.reshape(conv2_act, [-1,length]) # flatten\n",
    "    weight_1 = tf.Variable(tf.truncated_normal(shape=[length, 2]))\n",
    "    bias_1 = tf.Variable(tf.truncated_normal(shape=[2]))\n",
    "    dense1 = tf.matmul(x_flat, weight_1) + bias_1\n",
    "    output = tf.sigmoid(dense1)\n",
    "\n",
    "\"\"\"\n",
    "with tf.name_scope('Dense2'):\n",
    "    # softmax\n",
    "    weight_2 = tf.Variable(tf.truncated_normal(shape=[length, 2]))\n",
    "    bias_2 = tf.Variable(tf.truncated_normal(shape=[2]))\n",
    "    dense2 = tf.matmul(dense1, weight_2) + bias_2\n",
    "    output = tf.sigmoid(dense2)\n",
    "\"\"\"\n",
    "with tf.name_scope('optimizer'):\n",
    "    Loss = tf.reduce_mean(tf.square(output - t))\n",
    "    Optimizer = tf.train.AdamOptimizer().minimize(Loss, global_step=global_step)\n",
    "    tf.summary.scalar('loss', Loss)"
   ]
  },
  {
   "cell_type": "code",
   "execution_count": 43,
   "metadata": {},
   "outputs": [
    {
     "name": "stdout",
     "output_type": "stream",
     "text": [
      "INFO:tensorflow:Restoring parameters from ./model/chess.ckpt-35000\n",
      "    0/10000 [..............................] - ETA: 0s0 epoch, Loss :  0.27175698\n",
      " 1000/10000 [==>...........................] - ETA: 1:181000 epoch, Loss :  0.2605529\n",
      " 1998/10000 [====>.........................] - ETA: 1:072000 epoch, Loss :  0.257802\n",
      " 2999/10000 [=======>......................] - ETA: 58s3000 epoch, Loss :  0.29743454\n",
      " 3995/10000 [==========>...................] - ETA: 49s4000 epoch, Loss :  0.25652263\n",
      " 4995/10000 [=============>................] - ETA: 41s5000 epoch, Loss :  0.22918122\n",
      " 5995/10000 [================>.............] - ETA: 33s6000 epoch, Loss :  0.16067344\n",
      " 6995/10000 [===================>..........] - ETA: 24s7000 epoch, Loss :  0.271891\n",
      " 7996/10000 [======================>.......] - ETA: 17s8000 epoch, Loss :  0.1900317\n",
      " 8994/10000 [=========================>....] - ETA: 8s9000 epoch, Loss :  0.21586907\n",
      " 9994/10000 [============================>.] - ETA: 0s"
     ]
    },
    {
     "data": {
      "text/plain": [
       "'./model/chess.ckpt-45000'"
      ]
     },
     "execution_count": 43,
     "metadata": {},
     "output_type": "execute_result"
    }
   ],
   "source": [
    "# Session\n",
    "sess = tf.Session()\n",
    "saver = tf.train.Saver(tf.global_variables())\n",
    "\n",
    "ckpt = tf.train.get_checkpoint_state('./model')\n",
    "if ckpt and tf.train.checkpoint_exists(ckpt.model_checkpoint_path):\n",
    "    saver.restore(sess, ckpt.model_checkpoint_path)\n",
    "else:\n",
    "    sess.run(tf.global_variables_initializer())\n",
    "    \n",
    "# Save\n",
    "merged = tf.summary.merge_all()\n",
    "writer = tf.summary.FileWriter('./logs', sess.graph)\n",
    "    \n",
    "loss_table = []\n",
    "\n",
    "# Epoch\n",
    "max_epoch = 10000\n",
    "progbar = tf.keras.utils.Progbar(max_epoch)\n",
    "for epoch in range(max_epoch):\n",
    "    progbar.update(epoch) # update progress bar\n",
    "    \n",
    "    x_train_batch, t_train_batch = batch_data(50, x_train, t_train)\n",
    "\n",
    "    feed_dict = {x:x_train_batch, t:t_train_batch}\n",
    "    _, loss = sess.run([Optimizer, Loss], feed_dict=feed_dict)\n",
    "    loss_table.append(loss)\n",
    "    \n",
    "    if epoch % 1000 == 0:\n",
    "        print(epoch, \"epoch, Loss : \", loss)\n",
    "    \n",
    "    summary = sess.run(merged, feed_dict=feed_dict)\n",
    "    writer.add_summary(summary, global_step=sess.run(global_step))\n",
    "\n",
    "saver.save(sess, './model/chess.ckpt', global_step=global_step)"
   ]
  },
  {
   "cell_type": "code",
   "execution_count": 44,
   "metadata": {},
   "outputs": [
    {
     "name": "stdout",
     "output_type": "stream",
     "text": [
      "Final Loss Value :  0.22695394\n"
     ]
    },
    {
     "data": {
      "image/png": "[encoded data removed]",
      "text/plain": [
       "<Figure size 432x288 with 1 Axes>"
      ]
     },
     "metadata": {},
     "output_type": "display_data"
    }
   ],
   "source": [
    "# Loss Graph\n",
    "plt.plot(loss_table[1::10]) # Draw loss graph for every 10 training epoch\n",
    "print('Final Loss Value : ', loss_table[-1])"
   ]
  },
  {
   "cell_type": "code",
   "execution_count": 53,
   "metadata": {},
   "outputs": [
    {
     "name": "stdout",
     "output_type": "stream",
     "text": [
      "Percentage of Correct Prediction :  0.677\n"
     ]
    }
   ],
   "source": [
    "# Prediction and Accuracy\n",
    "sample_size = 1000\n",
    "x_test, t_test = batch_data(sample_size, x_train, t_train)\n",
    "result = sess.run(output, feed_dict={x:x_test})\n",
    "\n",
    "correct_prediction = 0\n",
    "for i in range(sample_size):\n",
    "    if (result[i][0] > result[i][1] and t_test[i][0]) \\\n",
    "        or (result[i][0] < result[i][1] and t_test[i][1]): # Black winning prediction\n",
    "        correct_prediction += 1\n",
    "        \n",
    "print(\"Percentage of Correct Prediction : \", correct_prediction / sample_size)"
   ]
  }
 ],
 "metadata": {
  "kernelspec": {
   "display_name": "Python 3",
   "language": "python",
   "name": "python3"
  },
  "language_info": {
   "codemirror_mode": {
    "name": "ipython",
    "version": 3
   },
   "file_extension": ".py",
   "mimetype": "text/x-python",
   "name": "python",
   "nbconvert_exporter": "python",
   "pygments_lexer": "ipython3",
   "version": "3.6.5"
  }
 },
 "nbformat": 4,
 "nbformat_minor": 2
}
